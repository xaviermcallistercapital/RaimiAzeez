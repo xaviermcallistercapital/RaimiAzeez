{
 "cells": [
  {
   "cell_type": "code",
   "execution_count": 7,
   "id": "84df72b2",
   "metadata": {
    "tags": []
   },
   "outputs": [
    {
     "ename": "AttributeError",
     "evalue": "module '__main__' has no attribute '__file__'",
     "output_type": "error",
     "traceback": [
      "\u001b[1;31m---------------------------------------------------------------------------\u001b[0m",
      "\u001b[1;31mAttributeError\u001b[0m                            Traceback (most recent call last)",
      "Cell \u001b[1;32mIn[7], line 6\u001b[0m\n\u001b[0;32m      3\u001b[0m \u001b[38;5;28;01mfrom\u001b[39;00m \u001b[38;5;21;01mdash\u001b[39;00m \u001b[38;5;28;01mimport\u001b[39;00m Dash, html\n\u001b[0;32m      4\u001b[0m \u001b[38;5;28;01mimport\u001b[39;00m \u001b[38;5;21;01mdash_bootstrap_components\u001b[39;00m \u001b[38;5;28;01mas\u001b[39;00m \u001b[38;5;21;01mdbc\u001b[39;00m\n\u001b[1;32m----> 6\u001b[0m app \u001b[38;5;241m=\u001b[39m \u001b[43mJupyterDash\u001b[49m\u001b[43m(\u001b[49m\u001b[38;5;18;43m__name__\u001b[39;49m\u001b[43m,\u001b[49m\u001b[43m \u001b[49m\u001b[43muse_pages\u001b[49m\u001b[43m \u001b[49m\u001b[38;5;241;43m=\u001b[39;49m\u001b[43m \u001b[49m\u001b[38;5;28;43;01mTrue\u001b[39;49;00m\u001b[43m,\u001b[49m\u001b[43m \u001b[49m\u001b[43mexternal_stylesheets\u001b[49m\u001b[38;5;241;43m=\u001b[39;49m\u001b[43m[\u001b[49m\u001b[43mdbc\u001b[49m\u001b[38;5;241;43m.\u001b[39;49m\u001b[43mthemes\u001b[49m\u001b[38;5;241;43m.\u001b[39;49m\u001b[43mSUPERHERO\u001b[49m\u001b[43m]\u001b[49m\u001b[43m)\u001b[49m \u001b[38;5;66;03m#use_pages=True,\u001b[39;00m\n\u001b[0;32m      8\u001b[0m header \u001b[38;5;241m=\u001b[39m dbc\u001b[38;5;241m.\u001b[39mNavbar(\n\u001b[0;32m      9\u001b[0m     dbc\u001b[38;5;241m.\u001b[39mContainer(\n\u001b[0;32m     10\u001b[0m         [\n\u001b[1;32m   (...)\u001b[0m\n\u001b[0;32m     23\u001b[0m     color\u001b[38;5;241m=\u001b[39m\u001b[38;5;124m'\u001b[39m\u001b[38;5;124mdark\u001b[39m\u001b[38;5;124m'\u001b[39m\n\u001b[0;32m     24\u001b[0m )\n\u001b[0;32m     26\u001b[0m app\u001b[38;5;241m.\u001b[39mlayout \u001b[38;5;241m=\u001b[39m dbc\u001b[38;5;241m.\u001b[39mContainer([header, dash\u001b[38;5;241m.\u001b[39mpage_container], fluid\u001b[38;5;241m=\u001b[39m\u001b[38;5;28;01mFalse\u001b[39;00m)\n",
      "File \u001b[1;32m~\\AppData\\Roaming\\Python\\Python39\\site-packages\\jupyter_dash\\jupyter_app.py:103\u001b[0m, in \u001b[0;36mJupyterDash.__init__\u001b[1;34m(self, name, server_url, **kwargs)\u001b[0m\n\u001b[0;32m     96\u001b[0m             warnings\u001b[38;5;241m.\u001b[39mwarn(\n\u001b[0;32m     97\u001b[0m                 \u001b[38;5;124m\"\u001b[39m\u001b[38;5;124mThe \u001b[39m\u001b[38;5;132;01m{prop}\u001b[39;00m\u001b[38;5;124m argument is ignored when running in Colab\u001b[39m\u001b[38;5;124m\"\u001b[39m\u001b[38;5;241m.\u001b[39mformat(\n\u001b[0;32m     98\u001b[0m                     prop\u001b[38;5;241m=\u001b[39mprop\n\u001b[0;32m     99\u001b[0m                 )\n\u001b[0;32m    100\u001b[0m             )\n\u001b[0;32m    102\u001b[0m \u001b[38;5;66;03m# Call superclass constructor\u001b[39;00m\n\u001b[1;32m--> 103\u001b[0m \u001b[38;5;28msuper\u001b[39m(JupyterDash, \u001b[38;5;28mself\u001b[39m)\u001b[38;5;241m.\u001b[39m\u001b[38;5;21m__init__\u001b[39m(name\u001b[38;5;241m=\u001b[39mname, \u001b[38;5;241m*\u001b[39m\u001b[38;5;241m*\u001b[39mkwargs)\n\u001b[0;32m    105\u001b[0m \u001b[38;5;28;01mif\u001b[39;00m \u001b[38;5;129;01mnot\u001b[39;00m JupyterDash\u001b[38;5;241m.\u001b[39m_in_ipython:\n\u001b[0;32m    106\u001b[0m     \u001b[38;5;66;03m# Nothing else to do when not running in a Jupyter context\u001b[39;00m\n\u001b[0;32m    107\u001b[0m     \u001b[38;5;28;01mreturn\u001b[39;00m\n",
      "File \u001b[1;32m~\\Anaconda3\\lib\\site-packages\\dash\\dash.py:511\u001b[0m, in \u001b[0;36mDash.__init__\u001b[1;34m(self, name, server, assets_folder, pages_folder, use_pages, assets_url_path, assets_ignore, assets_external_path, eager_loading, include_assets_files, include_pages_meta, url_base_pathname, requests_pathname_prefix, routes_pathname_prefix, serve_locally, compress, meta_tags, index_string, external_scripts, external_stylesheets, suppress_callback_exceptions, prevent_initial_callbacks, show_undo_redo, extra_hot_reload_paths, plugins, title, update_title, long_callback_manager, background_callback_manager, add_log_handler, **obsolete)\u001b[0m\n\u001b[0;32m    508\u001b[0m \u001b[38;5;28mself\u001b[39m\u001b[38;5;241m.\u001b[39m_got_first_request \u001b[38;5;241m=\u001b[39m {\u001b[38;5;124m\"\u001b[39m\u001b[38;5;124mpages\u001b[39m\u001b[38;5;124m\"\u001b[39m: \u001b[38;5;28;01mFalse\u001b[39;00m, \u001b[38;5;124m\"\u001b[39m\u001b[38;5;124msetup_server\u001b[39m\u001b[38;5;124m\"\u001b[39m: \u001b[38;5;28;01mFalse\u001b[39;00m}\n\u001b[0;32m    510\u001b[0m \u001b[38;5;28;01mif\u001b[39;00m \u001b[38;5;28mself\u001b[39m\u001b[38;5;241m.\u001b[39mserver \u001b[38;5;129;01mis\u001b[39;00m \u001b[38;5;129;01mnot\u001b[39;00m \u001b[38;5;28;01mNone\u001b[39;00m:\n\u001b[1;32m--> 511\u001b[0m     \u001b[38;5;28;43mself\u001b[39;49m\u001b[38;5;241;43m.\u001b[39;49m\u001b[43minit_app\u001b[49m\u001b[43m(\u001b[49m\u001b[43m)\u001b[49m\n\u001b[0;32m    513\u001b[0m \u001b[38;5;28mself\u001b[39m\u001b[38;5;241m.\u001b[39mlogger\u001b[38;5;241m.\u001b[39msetLevel(logging\u001b[38;5;241m.\u001b[39mINFO)\n\u001b[0;32m    515\u001b[0m \u001b[38;5;28;01mif\u001b[39;00m \u001b[38;5;28mself\u001b[39m\u001b[38;5;241m.\u001b[39m\u001b[38;5;18m__class__\u001b[39m\u001b[38;5;241m.\u001b[39m\u001b[38;5;18m__name__\u001b[39m \u001b[38;5;241m==\u001b[39m \u001b[38;5;124m\"\u001b[39m\u001b[38;5;124mJupyterDash\u001b[39m\u001b[38;5;124m\"\u001b[39m:\n",
      "File \u001b[1;32m~\\Anaconda3\\lib\\site-packages\\dash\\dash.py:589\u001b[0m, in \u001b[0;36mDash.init_app\u001b[1;34m(self, app, **kwargs)\u001b[0m\n\u001b[0;32m    586\u001b[0m \u001b[38;5;28mself\u001b[39m\u001b[38;5;241m.\u001b[39m_setup_routes()\n\u001b[0;32m    588\u001b[0m _get_app\u001b[38;5;241m.\u001b[39mAPP \u001b[38;5;241m=\u001b[39m \u001b[38;5;28mself\u001b[39m\n\u001b[1;32m--> 589\u001b[0m \u001b[38;5;28;43mself\u001b[39;49m\u001b[38;5;241;43m.\u001b[39;49m\u001b[43menable_pages\u001b[49m\u001b[43m(\u001b[49m\u001b[43m)\u001b[49m\n",
      "File \u001b[1;32m~\\Anaconda3\\lib\\site-packages\\dash\\dash.py:2012\u001b[0m, in \u001b[0;36mDash.enable_pages\u001b[1;34m(self)\u001b[0m\n\u001b[0;32m   2010\u001b[0m     \u001b[38;5;28;01mreturn\u001b[39;00m\n\u001b[0;32m   2011\u001b[0m \u001b[38;5;28;01mif\u001b[39;00m \u001b[38;5;28mself\u001b[39m\u001b[38;5;241m.\u001b[39mpages_folder:\n\u001b[1;32m-> 2012\u001b[0m     \u001b[43m_import_layouts_from_pages\u001b[49m\u001b[43m(\u001b[49m\u001b[38;5;28;43mself\u001b[39;49m\u001b[38;5;241;43m.\u001b[39;49m\u001b[43mconfig\u001b[49m\u001b[38;5;241;43m.\u001b[39;49m\u001b[43mpages_folder\u001b[49m\u001b[43m)\u001b[49m\n\u001b[0;32m   2014\u001b[0m \u001b[38;5;129m@self\u001b[39m\u001b[38;5;241m.\u001b[39mserver\u001b[38;5;241m.\u001b[39mbefore_request\n\u001b[0;32m   2015\u001b[0m \u001b[38;5;28;01mdef\u001b[39;00m \u001b[38;5;21mrouter\u001b[39m():\n\u001b[0;32m   2016\u001b[0m     \u001b[38;5;28;01mif\u001b[39;00m \u001b[38;5;28mself\u001b[39m\u001b[38;5;241m.\u001b[39m_got_first_request[\u001b[38;5;124m\"\u001b[39m\u001b[38;5;124mpages\u001b[39m\u001b[38;5;124m\"\u001b[39m]:\n",
      "File \u001b[1;32m~\\Anaconda3\\lib\\site-packages\\dash\\_pages.py:432\u001b[0m, in \u001b[0;36m_import_layouts_from_pages\u001b[1;34m(pages_folder)\u001b[0m\n\u001b[0;32m    429\u001b[0m     \u001b[38;5;28;01mif\u001b[39;00m \u001b[38;5;124m\"\u001b[39m\u001b[38;5;124mregister_page\u001b[39m\u001b[38;5;124m\"\u001b[39m \u001b[38;5;129;01mnot\u001b[39;00m \u001b[38;5;129;01min\u001b[39;00m content:\n\u001b[0;32m    430\u001b[0m         \u001b[38;5;28;01mcontinue\u001b[39;00m\n\u001b[1;32m--> 432\u001b[0m module_name \u001b[38;5;241m=\u001b[39m \u001b[43m_infer_module_name\u001b[49m\u001b[43m(\u001b[49m\u001b[43mpage_path\u001b[49m\u001b[43m)\u001b[49m\n\u001b[0;32m    433\u001b[0m spec \u001b[38;5;241m=\u001b[39m importlib\u001b[38;5;241m.\u001b[39mutil\u001b[38;5;241m.\u001b[39mspec_from_file_location(module_name, page_path)\n\u001b[0;32m    434\u001b[0m page_module \u001b[38;5;241m=\u001b[39m importlib\u001b[38;5;241m.\u001b[39mutil\u001b[38;5;241m.\u001b[39mmodule_from_spec(spec)\n",
      "File \u001b[1;32m~\\Anaconda3\\lib\\site-packages\\dash\\_pages.py:109\u001b[0m, in \u001b[0;36m_infer_module_name\u001b[1;34m(page_path)\u001b[0m\n\u001b[0;32m    106\u001b[0m parent_module \u001b[38;5;241m=\u001b[39m _path_to_module_name(parent_path)\n\u001b[0;32m    108\u001b[0m module_name \u001b[38;5;241m=\u001b[39m \u001b[38;5;124mf\u001b[39m\u001b[38;5;124m\"\u001b[39m\u001b[38;5;132;01m{\u001b[39;00mparent_module\u001b[38;5;132;01m}\u001b[39;00m\u001b[38;5;124m.\u001b[39m\u001b[38;5;132;01m{\u001b[39;00mmodule\u001b[38;5;132;01m}\u001b[39;00m\u001b[38;5;124m\"\u001b[39m\n\u001b[1;32m--> 109\u001b[0m \u001b[38;5;28;01mif\u001b[39;00m \u001b[43m_module_name_is_package\u001b[49m\u001b[43m(\u001b[49m\u001b[43mCONFIG\u001b[49m\u001b[38;5;241;43m.\u001b[39;49m\u001b[43mname\u001b[49m\u001b[43m)\u001b[49m:\n\u001b[0;32m    110\u001b[0m     \u001b[38;5;66;03m# Only prefix with CONFIG.name when it's an imported package name\u001b[39;00m\n\u001b[0;32m    111\u001b[0m     module_name \u001b[38;5;241m=\u001b[39m \u001b[38;5;124mf\u001b[39m\u001b[38;5;124m\"\u001b[39m\u001b[38;5;132;01m{\u001b[39;00mCONFIG\u001b[38;5;241m.\u001b[39mname\u001b[38;5;132;01m}\u001b[39;00m\u001b[38;5;124m.\u001b[39m\u001b[38;5;132;01m{\u001b[39;00mmodule_name\u001b[38;5;132;01m}\u001b[39;00m\u001b[38;5;124m\"\u001b[39m\n\u001b[0;32m    112\u001b[0m \u001b[38;5;28;01mreturn\u001b[39;00m module_name\n",
      "File \u001b[1;32m~\\Anaconda3\\lib\\site-packages\\dash\\_pages.py:90\u001b[0m, in \u001b[0;36m_module_name_is_package\u001b[1;34m(module_name)\u001b[0m\n\u001b[0;32m     87\u001b[0m \u001b[38;5;28;01mdef\u001b[39;00m \u001b[38;5;21m_module_name_is_package\u001b[39m(module_name):\n\u001b[0;32m     88\u001b[0m     \u001b[38;5;28;01mreturn\u001b[39;00m (\n\u001b[0;32m     89\u001b[0m         module_name \u001b[38;5;129;01min\u001b[39;00m sys\u001b[38;5;241m.\u001b[39mmodules\n\u001b[1;32m---> 90\u001b[0m         \u001b[38;5;129;01mand\u001b[39;00m Path(\u001b[43msys\u001b[49m\u001b[38;5;241;43m.\u001b[39;49m\u001b[43mmodules\u001b[49m\u001b[43m[\u001b[49m\u001b[43mmodule_name\u001b[49m\u001b[43m]\u001b[49m\u001b[38;5;241;43m.\u001b[39;49m\u001b[38;5;18;43m__file__\u001b[39;49m)\u001b[38;5;241m.\u001b[39mname \u001b[38;5;241m==\u001b[39m \u001b[38;5;124m\"\u001b[39m\u001b[38;5;124m__init__.py\u001b[39m\u001b[38;5;124m\"\u001b[39m\n\u001b[0;32m     91\u001b[0m     )\n",
      "\u001b[1;31mAttributeError\u001b[0m: module '__main__' has no attribute '__file__'"
     ]
    }
   ],
   "source": [
    "import dash\n",
    "from dash import Dash, html\n",
    "import dash_bootstrap_components as dbc\n",
    "\n",
    "app = Dash(__name__, use_pages = True, external_stylesheets=[dbc.themes.SUPERHERO]) #use_pages=True,\n",
    "\n",
    "header = dbc.Navbar(\n",
    "    dbc.Container(\n",
    "        [\n",
    "            dbc.Row([\n",
    "                dbc.NavbarToggler(id=\"navbar-toggler\"),\n",
    "                    dbc.Nav([\n",
    "                        dbc.NavLink(page[\"name\"], href=page[\"path\"])\n",
    "                        for page in dash.page_registry.values()\n",
    "                        if not page[\"path\"].startswith(\"/app\")\n",
    "                    ])\n",
    "            ])\n",
    "        ],\n",
    "        fluid=True,\n",
    "    ),\n",
    "    dark=True,\n",
    "    color='dark'\n",
    ")\n",
    "\n",
    "app.layout = dbc.Container([header, dash.page_container], fluid=False)\n",
    "\n",
    "if __name__ == '__main__':\n",
    "\tapp.run_server(port = '3030')"
   ]
  },
  {
   "cell_type": "code",
   "execution_count": 4,
   "id": "66c189db",
   "metadata": {
    "tags": []
   },
   "outputs": [
    {
     "ename": "AttributeError",
     "evalue": "type object 'Dash' has no attribute '__version__'",
     "output_type": "error",
     "traceback": [
      "\u001b[1;31m---------------------------------------------------------------------------\u001b[0m",
      "\u001b[1;31mAttributeError\u001b[0m                            Traceback (most recent call last)",
      "Cell \u001b[1;32mIn[4], line 3\u001b[0m\n\u001b[0;32m      1\u001b[0m \u001b[38;5;28;01mimport\u001b[39;00m \u001b[38;5;21;01mdash\u001b[39;00m\n\u001b[0;32m      2\u001b[0m \u001b[38;5;28;01mfrom\u001b[39;00m \u001b[38;5;21;01mdash\u001b[39;00m \u001b[38;5;28;01mimport\u001b[39;00m Dash, html\n\u001b[1;32m----> 3\u001b[0m \u001b[38;5;28mprint\u001b[39m(\u001b[43mDash\u001b[49m\u001b[38;5;241;43m.\u001b[39;49m\u001b[43m__version__\u001b[49m)\n",
      "\u001b[1;31mAttributeError\u001b[0m: type object 'Dash' has no attribute '__version__'"
     ]
    }
   ],
   "source": [
    "import dash\n",
    "from dash import Dash, html\n",
    "print(Dash.__version__)"
   ]
  },
  {
   "cell_type": "code",
   "execution_count": null,
   "id": "efe23f62",
   "metadata": {},
   "outputs": [],
   "source": []
  }
 ],
 "metadata": {
  "kernelspec": {
   "display_name": "Python 3 (ipykernel)",
   "language": "python",
   "name": "python3"
  },
  "language_info": {
   "codemirror_mode": {
    "name": "ipython",
    "version": 3
   },
   "file_extension": ".py",
   "mimetype": "text/x-python",
   "name": "python",
   "nbconvert_exporter": "python",
   "pygments_lexer": "ipython3",
   "version": "3.9.7"
  }
 },
 "nbformat": 4,
 "nbformat_minor": 5
}
