{
 "cells": [
  {
   "cell_type": "code",
   "execution_count": 2,
   "id": "6355ca21",
   "metadata": {},
   "outputs": [
    {
     "name": "stderr",
     "output_type": "stream",
     "text": [
      "Cloning into 'resume'...\n",
      "fatal: repository 'https://github.com/Coding-with-Adam/Dash-by-Plotly/tree/d0043450b43e57f13ef8b729077cc3ac066d8a58/Good_to_Know/resume/' not found\n"
     ]
    }
   ],
   "source": [
    "!git clone https://github.com/Coding-with-Adam/Dash-by-Plotly/tree/d0043450b43e57f13ef8b729077cc3ac066d8a58/Good_to_Know/resume"
   ]
  },
  {
   "cell_type": "code",
   "execution_count": null,
   "id": "9cb82ab0",
   "metadata": {},
   "outputs": [],
   "source": []
  }
 ],
 "metadata": {
  "kernelspec": {
   "display_name": "Python 3 (ipykernel)",
   "language": "python",
   "name": "python3"
  },
  "language_info": {
   "codemirror_mode": {
    "name": "ipython",
    "version": 3
   },
   "file_extension": ".py",
   "mimetype": "text/x-python",
   "name": "python",
   "nbconvert_exporter": "python",
   "pygments_lexer": "ipython3",
   "version": "3.9.7"
  }
 },
 "nbformat": 4,
 "nbformat_minor": 5
}
